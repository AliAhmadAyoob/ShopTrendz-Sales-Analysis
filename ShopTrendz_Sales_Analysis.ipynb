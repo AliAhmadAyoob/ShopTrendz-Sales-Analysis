{
 "cells": [
  {
   "cell_type": "code",
   "execution_count": 1,
   "id": "3b2a0cd2-8ac3-4a3c-983b-19e5ca7600b0",
   "metadata": {},
   "outputs": [],
   "source": [
    "import pandas as pd\n",
    "import matplotlib.pyplot as plt\n"
   ]
  },
  {
   "cell_type": "markdown",
   "id": "dcc7c3a4-f3b6-46ae-8f71-627ce540e975",
   "metadata": {},
   "source": [
    "# Part 1: Data Cleaning & Preparation\n",
    "    1. Load the CSV file using Pandas.\n",
    "    2. Check for missing values and handle them appropriately.\n",
    "    3. Convert the Order Date column to datetime format.\n",
    "    4. Add a new column Month extracted from the date.\n",
    "    5. Calculate Total Sales if not already in the dataset.\n"
   ]
  },
  {
   "cell_type": "markdown",
   "id": "83876da0-03a1-4a38-9cc5-43c9a326bd3a",
   "metadata": {},
   "source": [
    "#### Load CSV file using pandas"
   ]
  },
  {
   "cell_type": "code",
   "execution_count": 2,
   "id": "7c921632-8e7b-4f0d-969e-d4ff304342bf",
   "metadata": {},
   "outputs": [],
   "source": [
    "data = pd.read_csv(\"Dataset/sales_data_shoptrendz.csv\")"
   ]
  },
  {
   "cell_type": "code",
   "execution_count": 3,
   "id": "893e4692-ca5d-4025-8a40-5b2fa695e3fa",
   "metadata": {},
   "outputs": [
    {
     "data": {
      "text/html": [
       "<div>\n",
       "<style scoped>\n",
       "    .dataframe tbody tr th:only-of-type {\n",
       "        vertical-align: middle;\n",
       "    }\n",
       "\n",
       "    .dataframe tbody tr th {\n",
       "        vertical-align: top;\n",
       "    }\n",
       "\n",
       "    .dataframe thead th {\n",
       "        text-align: right;\n",
       "    }\n",
       "</style>\n",
       "<table border=\"1\" class=\"dataframe\">\n",
       "  <thead>\n",
       "    <tr style=\"text-align: right;\">\n",
       "      <th></th>\n",
       "      <th>Order ID</th>\n",
       "      <th>Product Name</th>\n",
       "      <th>Category</th>\n",
       "      <th>City</th>\n",
       "      <th>Order Date</th>\n",
       "      <th>Units Sold</th>\n",
       "      <th>Unit Price</th>\n",
       "      <th>Total Sales</th>\n",
       "    </tr>\n",
       "  </thead>\n",
       "  <tbody>\n",
       "    <tr>\n",
       "      <th>0</th>\n",
       "      <td>1</td>\n",
       "      <td>Laptop</td>\n",
       "      <td>Electronics</td>\n",
       "      <td>Karachi</td>\n",
       "      <td>21-05-2023</td>\n",
       "      <td>7</td>\n",
       "      <td>39928.88</td>\n",
       "      <td>279502.16</td>\n",
       "    </tr>\n",
       "    <tr>\n",
       "      <th>1</th>\n",
       "      <td>2</td>\n",
       "      <td>Laptop</td>\n",
       "      <td>Electronics</td>\n",
       "      <td>NaN</td>\n",
       "      <td>14-02-2023</td>\n",
       "      <td>8</td>\n",
       "      <td>30133.59</td>\n",
       "      <td>241068.72</td>\n",
       "    </tr>\n",
       "    <tr>\n",
       "      <th>2</th>\n",
       "      <td>3</td>\n",
       "      <td>Laptop</td>\n",
       "      <td>Electronics</td>\n",
       "      <td>NaN</td>\n",
       "      <td>30-04-2023</td>\n",
       "      <td>7</td>\n",
       "      <td>22568.72</td>\n",
       "      <td>157981.04</td>\n",
       "    </tr>\n",
       "    <tr>\n",
       "      <th>3</th>\n",
       "      <td>4</td>\n",
       "      <td>Bluetooth Speaker</td>\n",
       "      <td>Electronics</td>\n",
       "      <td>Peshawar</td>\n",
       "      <td>03-08-2023</td>\n",
       "      <td>7</td>\n",
       "      <td>3375.14</td>\n",
       "      <td>23625.98</td>\n",
       "    </tr>\n",
       "    <tr>\n",
       "      <th>4</th>\n",
       "      <td>5</td>\n",
       "      <td>Wireless Mouse</td>\n",
       "      <td>Electronics</td>\n",
       "      <td>Lahore</td>\n",
       "      <td>24-12-2023</td>\n",
       "      <td>8</td>\n",
       "      <td>17018.58</td>\n",
       "      <td>136148.64</td>\n",
       "    </tr>\n",
       "    <tr>\n",
       "      <th>...</th>\n",
       "      <td>...</td>\n",
       "      <td>...</td>\n",
       "      <td>...</td>\n",
       "      <td>...</td>\n",
       "      <td>...</td>\n",
       "      <td>...</td>\n",
       "      <td>...</td>\n",
       "      <td>...</td>\n",
       "    </tr>\n",
       "    <tr>\n",
       "      <th>95</th>\n",
       "      <td>96</td>\n",
       "      <td>Backpack</td>\n",
       "      <td>Fashion</td>\n",
       "      <td>Islamabad</td>\n",
       "      <td>17-02-2023</td>\n",
       "      <td>2</td>\n",
       "      <td>41966.65</td>\n",
       "      <td>83933.30</td>\n",
       "    </tr>\n",
       "    <tr>\n",
       "      <th>96</th>\n",
       "      <td>97</td>\n",
       "      <td>Headphones</td>\n",
       "      <td>Electronics</td>\n",
       "      <td>NaN</td>\n",
       "      <td>12-04-2023</td>\n",
       "      <td>9</td>\n",
       "      <td>6116.94</td>\n",
       "      <td>55052.46</td>\n",
       "    </tr>\n",
       "    <tr>\n",
       "      <th>97</th>\n",
       "      <td>98</td>\n",
       "      <td>Jeans</td>\n",
       "      <td>Fashion</td>\n",
       "      <td>Peshawar</td>\n",
       "      <td>07-02-2023</td>\n",
       "      <td>7</td>\n",
       "      <td>27301.67</td>\n",
       "      <td>191111.69</td>\n",
       "    </tr>\n",
       "    <tr>\n",
       "      <th>98</th>\n",
       "      <td>99</td>\n",
       "      <td>Backpack</td>\n",
       "      <td>Fashion</td>\n",
       "      <td>Lahore</td>\n",
       "      <td>23-12-2023</td>\n",
       "      <td>3</td>\n",
       "      <td>11813.23</td>\n",
       "      <td>35439.69</td>\n",
       "    </tr>\n",
       "    <tr>\n",
       "      <th>99</th>\n",
       "      <td>100</td>\n",
       "      <td>Smartphone</td>\n",
       "      <td>Electronics</td>\n",
       "      <td>Karachi</td>\n",
       "      <td>24-02-2023</td>\n",
       "      <td>9</td>\n",
       "      <td>26073.48</td>\n",
       "      <td>234661.32</td>\n",
       "    </tr>\n",
       "  </tbody>\n",
       "</table>\n",
       "<p>100 rows × 8 columns</p>\n",
       "</div>"
      ],
      "text/plain": [
       "    Order ID       Product Name     Category       City  Order Date  \\\n",
       "0          1             Laptop  Electronics    Karachi  21-05-2023   \n",
       "1          2             Laptop  Electronics        NaN  14-02-2023   \n",
       "2          3             Laptop  Electronics        NaN  30-04-2023   \n",
       "3          4  Bluetooth Speaker  Electronics   Peshawar  03-08-2023   \n",
       "4          5     Wireless Mouse  Electronics     Lahore  24-12-2023   \n",
       "..       ...                ...          ...        ...         ...   \n",
       "95        96           Backpack      Fashion  Islamabad  17-02-2023   \n",
       "96        97         Headphones  Electronics        NaN  12-04-2023   \n",
       "97        98              Jeans      Fashion   Peshawar  07-02-2023   \n",
       "98        99           Backpack      Fashion     Lahore  23-12-2023   \n",
       "99       100         Smartphone  Electronics    Karachi  24-02-2023   \n",
       "\n",
       "    Units Sold  Unit Price  Total Sales  \n",
       "0            7    39928.88    279502.16  \n",
       "1            8    30133.59    241068.72  \n",
       "2            7    22568.72    157981.04  \n",
       "3            7     3375.14     23625.98  \n",
       "4            8    17018.58    136148.64  \n",
       "..         ...         ...          ...  \n",
       "95           2    41966.65     83933.30  \n",
       "96           9     6116.94     55052.46  \n",
       "97           7    27301.67    191111.69  \n",
       "98           3    11813.23     35439.69  \n",
       "99           9    26073.48    234661.32  \n",
       "\n",
       "[100 rows x 8 columns]"
      ]
     },
     "execution_count": 3,
     "metadata": {},
     "output_type": "execute_result"
    }
   ],
   "source": [
    "data"
   ]
  },
  {
   "cell_type": "code",
   "execution_count": 4,
   "id": "43786ca0-bb71-451c-8901-3ede9a6469e3",
   "metadata": {},
   "outputs": [
    {
     "name": "stdout",
     "output_type": "stream",
     "text": [
      "<class 'pandas.core.frame.DataFrame'>\n",
      "RangeIndex: 100 entries, 0 to 99\n",
      "Data columns (total 8 columns):\n",
      " #   Column        Non-Null Count  Dtype  \n",
      "---  ------        --------------  -----  \n",
      " 0   Order ID      100 non-null    int64  \n",
      " 1   Product Name  100 non-null    object \n",
      " 2   Category      100 non-null    object \n",
      " 3   City          96 non-null     object \n",
      " 4   Order Date    100 non-null    object \n",
      " 5   Units Sold    100 non-null    int64  \n",
      " 6   Unit Price    96 non-null     float64\n",
      " 7   Total Sales   96 non-null     float64\n",
      "dtypes: float64(2), int64(2), object(4)\n",
      "memory usage: 6.4+ KB\n"
     ]
    }
   ],
   "source": [
    "data.info()"
   ]
  },
  {
   "cell_type": "markdown",
   "id": "de43425a-2d79-4de3-ae27-6ca76e5be0c5",
   "metadata": {},
   "source": [
    "#### Check for missing values"
   ]
  },
  {
   "cell_type": "code",
   "execution_count": 5,
   "id": "0d0fac3c-9cdf-45f0-8fb4-d824c24dd3b9",
   "metadata": {},
   "outputs": [
    {
     "data": {
      "text/plain": [
       "Order ID        0\n",
       "Product Name    0\n",
       "Category        0\n",
       "City            4\n",
       "Order Date      0\n",
       "Units Sold      0\n",
       "Unit Price      4\n",
       "Total Sales     4\n",
       "dtype: int64"
      ]
     },
     "execution_count": 5,
     "metadata": {},
     "output_type": "execute_result"
    }
   ],
   "source": [
    "nul = data.isnull().sum()\n",
    "nul"
   ]
  },
  {
   "cell_type": "markdown",
   "id": "f4d633ae-1e47-4ff3-b9de-5683cdc946fa",
   "metadata": {},
   "source": [
    "#### Handle Missing values"
   ]
  },
  {
   "cell_type": "code",
   "execution_count": 6,
   "id": "dffb91d0-10b0-410e-9f7b-0313c28c7a53",
   "metadata": {},
   "outputs": [
    {
     "name": "stderr",
     "output_type": "stream",
     "text": [
      "C:\\Users\\ziaah\\AppData\\Local\\Temp\\ipykernel_16640\\1265519953.py:1: FutureWarning: A value is trying to be set on a copy of a DataFrame or Series through chained assignment using an inplace method.\n",
      "The behavior will change in pandas 3.0. This inplace method will never work because the intermediate object on which we are setting values always behaves as a copy.\n",
      "\n",
      "For example, when doing 'df[col].method(value, inplace=True)', try using 'df.method({col: value}, inplace=True)' or df[col] = df[col].method(value) instead, to perform the operation inplace on the original object.\n",
      "\n",
      "\n",
      "  data['Total Sales'].fillna(data['Total Sales'].mean(),inplace=True)\n"
     ]
    }
   ],
   "source": [
    "data['Total Sales'].fillna(data['Total Sales'].mean(),inplace=True)"
   ]
  },
  {
   "cell_type": "code",
   "execution_count": 7,
   "id": "690bafa8-3bbb-4bc0-8a6e-86582034d7d4",
   "metadata": {},
   "outputs": [
    {
     "name": "stderr",
     "output_type": "stream",
     "text": [
      "C:\\Users\\ziaah\\AppData\\Local\\Temp\\ipykernel_16640\\1838205923.py:1: FutureWarning: A value is trying to be set on a copy of a DataFrame or Series through chained assignment using an inplace method.\n",
      "The behavior will change in pandas 3.0. This inplace method will never work because the intermediate object on which we are setting values always behaves as a copy.\n",
      "\n",
      "For example, when doing 'df[col].method(value, inplace=True)', try using 'df.method({col: value}, inplace=True)' or df[col] = df[col].method(value) instead, to perform the operation inplace on the original object.\n",
      "\n",
      "\n",
      "  data['Unit Price'].fillna(data['Unit Price'].mean(),inplace=True)\n"
     ]
    }
   ],
   "source": [
    "data['Unit Price'].fillna(data['Unit Price'].mean(),inplace=True)"
   ]
  },
  {
   "cell_type": "code",
   "execution_count": 8,
   "id": "c366df18-03ac-49d1-a700-76554448e072",
   "metadata": {},
   "outputs": [
    {
     "name": "stderr",
     "output_type": "stream",
     "text": [
      "C:\\Users\\ziaah\\AppData\\Local\\Temp\\ipykernel_16640\\1503894781.py:1: FutureWarning: A value is trying to be set on a copy of a DataFrame or Series through chained assignment using an inplace method.\n",
      "The behavior will change in pandas 3.0. This inplace method will never work because the intermediate object on which we are setting values always behaves as a copy.\n",
      "\n",
      "For example, when doing 'df[col].method(value, inplace=True)', try using 'df.method({col: value}, inplace=True)' or df[col] = df[col].method(value) instead, to perform the operation inplace on the original object.\n",
      "\n",
      "\n",
      "  data['City'].fillna(data['City'].mode()[0],inplace=True)\n"
     ]
    }
   ],
   "source": [
    "data['City'].fillna(data['City'].mode()[0],inplace=True)\n"
   ]
  },
  {
   "cell_type": "code",
   "execution_count": 9,
   "id": "955df2c5-61a1-4ae2-858b-f48a0002c227",
   "metadata": {},
   "outputs": [
    {
     "data": {
      "text/plain": [
       "Order ID        0\n",
       "Product Name    0\n",
       "Category        0\n",
       "City            0\n",
       "Order Date      0\n",
       "Units Sold      0\n",
       "Unit Price      0\n",
       "Total Sales     0\n",
       "dtype: int64"
      ]
     },
     "execution_count": 9,
     "metadata": {},
     "output_type": "execute_result"
    }
   ],
   "source": [
    "data.isnull().sum()"
   ]
  },
  {
   "cell_type": "markdown",
   "id": "9f51ab52-1615-46cf-bcb9-921367c95434",
   "metadata": {},
   "source": [
    "#### Changing date column datatype to datetime"
   ]
  },
  {
   "cell_type": "code",
   "execution_count": 10,
   "id": "35cd3097-fa5f-412f-b978-3dec13c4612d",
   "metadata": {},
   "outputs": [
    {
     "name": "stderr",
     "output_type": "stream",
     "text": [
      "C:\\Users\\ziaah\\AppData\\Local\\Temp\\ipykernel_16640\\3021409918.py:1: UserWarning: Parsing dates in %d-%m-%Y format when dayfirst=False (the default) was specified. Pass `dayfirst=True` or specify a format to silence this warning.\n",
      "  data['Order Date'] = pd.to_datetime(data['Order Date'])\n"
     ]
    }
   ],
   "source": [
    "data['Order Date'] = pd.to_datetime(data['Order Date'])"
   ]
  },
  {
   "cell_type": "markdown",
   "id": "806d9708-cf4c-47b0-9c51-9186c39ecb41",
   "metadata": {},
   "source": [
    "#### Extracting Month from Date column\n"
   ]
  },
  {
   "cell_type": "code",
   "execution_count": 11,
   "id": "a79adcaf-2d01-4fd0-a671-f827bd555a8a",
   "metadata": {},
   "outputs": [],
   "source": [
    "data['Month'] = data['Order Date'].dt.month_name()"
   ]
  },
  {
   "cell_type": "markdown",
   "id": "a6fe843b-cebc-4879-9b34-2a4c6cf83a2a",
   "metadata": {},
   "source": [
    "# Part 2: Exploratory Data Analysis (EDA)\n",
    "    1. Find:\n",
    "    Total number of orders\n",
    "    Total revenue\n",
    "    Average sales per order\n",
    "    Top 5 best-selling products\n",
    "    2. Calculate:\n",
    "    Monthly sales trends\n",
    "    City-wise sales distribution\n",
    "    Category-wise revenue comparison\n"
   ]
  },
  {
   "cell_type": "markdown",
   "id": "a27a9339-e228-4a05-9361-9f0f24b66246",
   "metadata": {},
   "source": [
    "#### Calculating total number of orders"
   ]
  },
  {
   "cell_type": "code",
   "execution_count": 12,
   "id": "a63bdc7d-df43-4051-806c-943d85d9019c",
   "metadata": {},
   "outputs": [
    {
     "data": {
      "text/plain": [
       "100"
      ]
     },
     "execution_count": 12,
     "metadata": {},
     "output_type": "execute_result"
    }
   ],
   "source": [
    "total_orders = data[\"Order ID\"].nunique()\n",
    "total_orders"
   ]
  },
  {
   "cell_type": "code",
   "execution_count": 13,
   "id": "4b43f47f-7a82-4ed9-ba2b-7b59eb6d0451",
   "metadata": {},
   "outputs": [
    {
     "data": {
      "text/plain": [
       "Order ID\n",
       "1      1\n",
       "2      1\n",
       "3      1\n",
       "4      1\n",
       "5      1\n",
       "      ..\n",
       "96     1\n",
       "97     1\n",
       "98     1\n",
       "99     1\n",
       "100    1\n",
       "Name: count, Length: 100, dtype: int64"
      ]
     },
     "execution_count": 13,
     "metadata": {},
     "output_type": "execute_result"
    }
   ],
   "source": [
    "data['Order ID'].value_counts()"
   ]
  },
  {
   "cell_type": "markdown",
   "id": "310bc823-6e66-4f97-b0e0-af5515bbcf04",
   "metadata": {},
   "source": [
    "#### Total revenue"
   ]
  },
  {
   "cell_type": "code",
   "execution_count": 14,
   "id": "d54b2370-8d3d-4ea1-b1dc-7ab485c093c8",
   "metadata": {},
   "outputs": [
    {
     "name": "stdout",
     "output_type": "stream",
     "text": [
      "The total revenue is:  13664658.21875\n"
     ]
    }
   ],
   "source": [
    "total_revenue = data['Total Sales'].sum()\n",
    "print(\"The total revenue is: \",total_revenue)"
   ]
  },
  {
   "cell_type": "markdown",
   "id": "85932352-ce28-4622-b86a-75a983ba82a8",
   "metadata": {},
   "source": [
    "#### Average sales per order"
   ]
  },
  {
   "cell_type": "code",
   "execution_count": 15,
   "id": "d218a74b-408e-4aaa-a5c1-524343e719db",
   "metadata": {},
   "outputs": [
    {
     "name": "stdout",
     "output_type": "stream",
     "text": [
      "The average sales per order is:  136646.5821875\n"
     ]
    }
   ],
   "source": [
    "avg_sales_per_order = total_revenue / total_orders\n",
    "print(\"The average sales per order is: \",avg_sales_per_order)"
   ]
  },
  {
   "cell_type": "markdown",
   "id": "0a37813f-70ab-4905-8cec-23e44e05bfb5",
   "metadata": {},
   "source": [
    "#### Top 5 selling products"
   ]
  },
  {
   "cell_type": "code",
   "execution_count": 16,
   "id": "bc857c36-157c-47c4-9b36-7cb0e51985e7",
   "metadata": {},
   "outputs": [
    {
     "data": {
      "text/html": [
       "<div>\n",
       "<style scoped>\n",
       "    .dataframe tbody tr th:only-of-type {\n",
       "        vertical-align: middle;\n",
       "    }\n",
       "\n",
       "    .dataframe tbody tr th {\n",
       "        vertical-align: top;\n",
       "    }\n",
       "\n",
       "    .dataframe thead th {\n",
       "        text-align: right;\n",
       "    }\n",
       "</style>\n",
       "<table border=\"1\" class=\"dataframe\">\n",
       "  <thead>\n",
       "    <tr style=\"text-align: right;\">\n",
       "      <th></th>\n",
       "      <th>Units Sold</th>\n",
       "    </tr>\n",
       "    <tr>\n",
       "      <th>Product Name</th>\n",
       "      <th></th>\n",
       "    </tr>\n",
       "  </thead>\n",
       "  <tbody>\n",
       "    <tr>\n",
       "      <th>Laptop</th>\n",
       "      <td>82</td>\n",
       "    </tr>\n",
       "    <tr>\n",
       "      <th>Smartwatch</th>\n",
       "      <td>75</td>\n",
       "    </tr>\n",
       "    <tr>\n",
       "      <th>Sneakers</th>\n",
       "      <td>72</td>\n",
       "    </tr>\n",
       "    <tr>\n",
       "      <th>Wireless Mouse</th>\n",
       "      <td>65</td>\n",
       "    </tr>\n",
       "    <tr>\n",
       "      <th>Headphones</th>\n",
       "      <td>55</td>\n",
       "    </tr>\n",
       "  </tbody>\n",
       "</table>\n",
       "</div>"
      ],
      "text/plain": [
       "                Units Sold\n",
       "Product Name              \n",
       "Laptop                  82\n",
       "Smartwatch              75\n",
       "Sneakers                72\n",
       "Wireless Mouse          65\n",
       "Headphones              55"
      ]
     },
     "execution_count": 16,
     "metadata": {},
     "output_type": "execute_result"
    }
   ],
   "source": [
    "top_5_product = data.groupby('Product Name').agg({'Units Sold':'sum'}).sort_values(['Units Sold'],ascending=False).head(5)\n",
    "top_5_product"
   ]
  },
  {
   "cell_type": "markdown",
   "id": "637993a6-057b-4f92-a86d-1f8f4185e8db",
   "metadata": {},
   "source": [
    "#### Monthly sales trend"
   ]
  },
  {
   "cell_type": "code",
   "execution_count": 17,
   "id": "e9fd634d-9558-426b-be99-97dc174fb372",
   "metadata": {},
   "outputs": [
    {
     "name": "stdout",
     "output_type": "stream",
     "text": [
      "Monthly sales trends\n"
     ]
    },
    {
     "data": {
      "text/html": [
       "<div>\n",
       "<style scoped>\n",
       "    .dataframe tbody tr th:only-of-type {\n",
       "        vertical-align: middle;\n",
       "    }\n",
       "\n",
       "    .dataframe tbody tr th {\n",
       "        vertical-align: top;\n",
       "    }\n",
       "\n",
       "    .dataframe thead th {\n",
       "        text-align: right;\n",
       "    }\n",
       "</style>\n",
       "<table border=\"1\" class=\"dataframe\">\n",
       "  <thead>\n",
       "    <tr style=\"text-align: right;\">\n",
       "      <th></th>\n",
       "      <th>Total Sales</th>\n",
       "    </tr>\n",
       "    <tr>\n",
       "      <th>Month</th>\n",
       "      <th></th>\n",
       "    </tr>\n",
       "  </thead>\n",
       "  <tbody>\n",
       "    <tr>\n",
       "      <th>April</th>\n",
       "      <td>7.832240e+05</td>\n",
       "    </tr>\n",
       "    <tr>\n",
       "      <th>August</th>\n",
       "      <td>1.261043e+06</td>\n",
       "    </tr>\n",
       "    <tr>\n",
       "      <th>December</th>\n",
       "      <td>1.419443e+06</td>\n",
       "    </tr>\n",
       "    <tr>\n",
       "      <th>February</th>\n",
       "      <td>2.438471e+06</td>\n",
       "    </tr>\n",
       "    <tr>\n",
       "      <th>January</th>\n",
       "      <td>8.030770e+05</td>\n",
       "    </tr>\n",
       "    <tr>\n",
       "      <th>July</th>\n",
       "      <td>1.107214e+06</td>\n",
       "    </tr>\n",
       "    <tr>\n",
       "      <th>June</th>\n",
       "      <td>5.695897e+05</td>\n",
       "    </tr>\n",
       "    <tr>\n",
       "      <th>March</th>\n",
       "      <td>6.684160e+05</td>\n",
       "    </tr>\n",
       "    <tr>\n",
       "      <th>May</th>\n",
       "      <td>1.686770e+06</td>\n",
       "    </tr>\n",
       "    <tr>\n",
       "      <th>November</th>\n",
       "      <td>1.173879e+06</td>\n",
       "    </tr>\n",
       "    <tr>\n",
       "      <th>October</th>\n",
       "      <td>8.437833e+05</td>\n",
       "    </tr>\n",
       "    <tr>\n",
       "      <th>September</th>\n",
       "      <td>9.097484e+05</td>\n",
       "    </tr>\n",
       "  </tbody>\n",
       "</table>\n",
       "</div>"
      ],
      "text/plain": [
       "            Total Sales\n",
       "Month                  \n",
       "April      7.832240e+05\n",
       "August     1.261043e+06\n",
       "December   1.419443e+06\n",
       "February   2.438471e+06\n",
       "January    8.030770e+05\n",
       "July       1.107214e+06\n",
       "June       5.695897e+05\n",
       "March      6.684160e+05\n",
       "May        1.686770e+06\n",
       "November   1.173879e+06\n",
       "October    8.437833e+05\n",
       "September  9.097484e+05"
      ]
     },
     "execution_count": 17,
     "metadata": {},
     "output_type": "execute_result"
    }
   ],
   "source": [
    "print(\"Monthly sales trends\")\n",
    "month_data = data.groupby('Month').agg({\"Total Sales\":\"sum\"})\n",
    "month_data"
   ]
  },
  {
   "cell_type": "markdown",
   "id": "d657c592-1e4c-4ac0-b661-3eebb292e3fd",
   "metadata": {},
   "source": [
    "#### City-wise sales distribution"
   ]
  },
  {
   "cell_type": "code",
   "execution_count": 18,
   "id": "5ded2246-ff64-4011-b1d7-77c52271e8ed",
   "metadata": {},
   "outputs": [
    {
     "name": "stdout",
     "output_type": "stream",
     "text": [
      "City-wise sales distribution\n"
     ]
    },
    {
     "data": {
      "text/html": [
       "<div>\n",
       "<style scoped>\n",
       "    .dataframe tbody tr th:only-of-type {\n",
       "        vertical-align: middle;\n",
       "    }\n",
       "\n",
       "    .dataframe tbody tr th {\n",
       "        vertical-align: top;\n",
       "    }\n",
       "\n",
       "    .dataframe thead th {\n",
       "        text-align: right;\n",
       "    }\n",
       "</style>\n",
       "<table border=\"1\" class=\"dataframe\">\n",
       "  <thead>\n",
       "    <tr style=\"text-align: right;\">\n",
       "      <th></th>\n",
       "      <th>Total Sales</th>\n",
       "    </tr>\n",
       "    <tr>\n",
       "      <th>City</th>\n",
       "      <th></th>\n",
       "    </tr>\n",
       "  </thead>\n",
       "  <tbody>\n",
       "    <tr>\n",
       "      <th>Lahore</th>\n",
       "      <td>3.487075e+06</td>\n",
       "    </tr>\n",
       "    <tr>\n",
       "      <th>Karachi</th>\n",
       "      <td>3.384682e+06</td>\n",
       "    </tr>\n",
       "    <tr>\n",
       "      <th>Faisalabad</th>\n",
       "      <td>2.802591e+06</td>\n",
       "    </tr>\n",
       "    <tr>\n",
       "      <th>Peshawar</th>\n",
       "      <td>2.081423e+06</td>\n",
       "    </tr>\n",
       "    <tr>\n",
       "      <th>Islamabad</th>\n",
       "      <td>1.908888e+06</td>\n",
       "    </tr>\n",
       "  </tbody>\n",
       "</table>\n",
       "</div>"
      ],
      "text/plain": [
       "             Total Sales\n",
       "City                    \n",
       "Lahore      3.487075e+06\n",
       "Karachi     3.384682e+06\n",
       "Faisalabad  2.802591e+06\n",
       "Peshawar    2.081423e+06\n",
       "Islamabad   1.908888e+06"
      ]
     },
     "execution_count": 18,
     "metadata": {},
     "output_type": "execute_result"
    }
   ],
   "source": [
    "print(\"City-wise sales distribution\")\n",
    "city_sales = data.groupby('City').agg({\"Total Sales\":\"sum\"}).sort_values(['Total Sales'],ascending=False)\n",
    "city_sales"
   ]
  },
  {
   "cell_type": "markdown",
   "id": "b715e854-9981-41ea-a85f-2c0dc4450e5c",
   "metadata": {},
   "source": [
    "#### Category-wise revenue comparison"
   ]
  },
  {
   "cell_type": "code",
   "execution_count": 19,
   "id": "8740b0d2-03ae-47be-8b8d-d2fd24800ef5",
   "metadata": {},
   "outputs": [
    {
     "name": "stdout",
     "output_type": "stream",
     "text": [
      "Category-wise revenue comparison\n"
     ]
    },
    {
     "data": {
      "text/html": [
       "<div>\n",
       "<style scoped>\n",
       "    .dataframe tbody tr th:only-of-type {\n",
       "        vertical-align: middle;\n",
       "    }\n",
       "\n",
       "    .dataframe tbody tr th {\n",
       "        vertical-align: top;\n",
       "    }\n",
       "\n",
       "    .dataframe thead th {\n",
       "        text-align: right;\n",
       "    }\n",
       "</style>\n",
       "<table border=\"1\" class=\"dataframe\">\n",
       "  <thead>\n",
       "    <tr style=\"text-align: right;\">\n",
       "      <th></th>\n",
       "      <th>Total Sales</th>\n",
       "    </tr>\n",
       "    <tr>\n",
       "      <th>Category</th>\n",
       "      <th></th>\n",
       "    </tr>\n",
       "  </thead>\n",
       "  <tbody>\n",
       "    <tr>\n",
       "      <th>Electronics</th>\n",
       "      <td>8.965909e+06</td>\n",
       "    </tr>\n",
       "    <tr>\n",
       "      <th>Fashion</th>\n",
       "      <td>4.698749e+06</td>\n",
       "    </tr>\n",
       "  </tbody>\n",
       "</table>\n",
       "</div>"
      ],
      "text/plain": [
       "              Total Sales\n",
       "Category                 \n",
       "Electronics  8.965909e+06\n",
       "Fashion      4.698749e+06"
      ]
     },
     "execution_count": 19,
     "metadata": {},
     "output_type": "execute_result"
    }
   ],
   "source": [
    "print(\"Category-wise revenue comparison\")\n",
    "group_category = data.groupby('Category').agg({\"Total Sales\":\"sum\"})\n",
    "group_category"
   ]
  },
  {
   "cell_type": "markdown",
   "id": "9b864102-d503-430f-ac3f-bb45cb328fea",
   "metadata": {},
   "source": [
    "# Part 3: Data Visualization using Matplotlib\n",
    "    "
   ]
  },
  {
   "cell_type": "raw",
   "id": "17a6cd82-312a-483e-9b9a-d503e37d7e7a",
   "metadata": {},
   "source": [
    "Create the following plots using Matplotlib:\n",
    "    Line plot of monthly sales.\n",
    "    Bar chart of top 5 products by units sold.\n",
    "    Pie chart of category-wise revenue share.\n",
    "    Horizontal bar plot of city-wise total sales.\n",
    "    Use proper titles, labels, grid, and colors."
   ]
  },
  {
   "cell_type": "code",
   "execution_count": 34,
   "id": "7b59bb96-71e0-433d-8666-652a6ad40496",
   "metadata": {},
   "outputs": [
    {
     "data": {
      "text/html": [
       "<div>\n",
       "<style scoped>\n",
       "    .dataframe tbody tr th:only-of-type {\n",
       "        vertical-align: middle;\n",
       "    }\n",
       "\n",
       "    .dataframe tbody tr th {\n",
       "        vertical-align: top;\n",
       "    }\n",
       "\n",
       "    .dataframe thead th {\n",
       "        text-align: right;\n",
       "    }\n",
       "</style>\n",
       "<table border=\"1\" class=\"dataframe\">\n",
       "  <thead>\n",
       "    <tr style=\"text-align: right;\">\n",
       "      <th></th>\n",
       "      <th>Month</th>\n",
       "      <th>Total Sales</th>\n",
       "    </tr>\n",
       "  </thead>\n",
       "  <tbody>\n",
       "    <tr>\n",
       "      <th>0</th>\n",
       "      <td>January</td>\n",
       "      <td>7.832240e+05</td>\n",
       "    </tr>\n",
       "    <tr>\n",
       "      <th>1</th>\n",
       "      <td>February</td>\n",
       "      <td>1.261043e+06</td>\n",
       "    </tr>\n",
       "    <tr>\n",
       "      <th>2</th>\n",
       "      <td>March</td>\n",
       "      <td>1.419443e+06</td>\n",
       "    </tr>\n",
       "    <tr>\n",
       "      <th>3</th>\n",
       "      <td>April</td>\n",
       "      <td>2.438471e+06</td>\n",
       "    </tr>\n",
       "    <tr>\n",
       "      <th>4</th>\n",
       "      <td>May</td>\n",
       "      <td>8.030770e+05</td>\n",
       "    </tr>\n",
       "    <tr>\n",
       "      <th>5</th>\n",
       "      <td>June</td>\n",
       "      <td>1.107214e+06</td>\n",
       "    </tr>\n",
       "    <tr>\n",
       "      <th>6</th>\n",
       "      <td>July</td>\n",
       "      <td>5.695897e+05</td>\n",
       "    </tr>\n",
       "    <tr>\n",
       "      <th>7</th>\n",
       "      <td>August</td>\n",
       "      <td>6.684160e+05</td>\n",
       "    </tr>\n",
       "    <tr>\n",
       "      <th>8</th>\n",
       "      <td>September</td>\n",
       "      <td>1.686770e+06</td>\n",
       "    </tr>\n",
       "    <tr>\n",
       "      <th>9</th>\n",
       "      <td>October</td>\n",
       "      <td>1.173879e+06</td>\n",
       "    </tr>\n",
       "    <tr>\n",
       "      <th>10</th>\n",
       "      <td>November</td>\n",
       "      <td>8.437833e+05</td>\n",
       "    </tr>\n",
       "    <tr>\n",
       "      <th>11</th>\n",
       "      <td>December</td>\n",
       "      <td>9.097484e+05</td>\n",
       "    </tr>\n",
       "  </tbody>\n",
       "</table>\n",
       "</div>"
      ],
      "text/plain": [
       "        Month   Total Sales\n",
       "0     January  7.832240e+05\n",
       "1    February  1.261043e+06\n",
       "2       March  1.419443e+06\n",
       "3       April  2.438471e+06\n",
       "4         May  8.030770e+05\n",
       "5        June  1.107214e+06\n",
       "6        July  5.695897e+05\n",
       "7      August  6.684160e+05\n",
       "8   September  1.686770e+06\n",
       "9     October  1.173879e+06\n",
       "10   November  8.437833e+05\n",
       "11   December  9.097484e+05"
      ]
     },
     "execution_count": 34,
     "metadata": {},
     "output_type": "execute_result"
    }
   ],
   "source": [
    "month_order = ['January', 'February', 'March', 'April', 'May', 'June',\n",
    "               'July', 'August', 'September', 'October', 'November', 'December']\n",
    "reset = month_data.reset_index()\n",
    "reset['Month']= month_order\n",
    "# reset = reset.sort_values(\"Month\",inplace=True)\n",
    "reset"
   ]
  },
  {
   "cell_type": "code",
   "execution_count": 35,
   "id": "fa507507-926c-4d63-a72c-fcb22118e5d0",
   "metadata": {},
   "outputs": [
    {
     "data": {
      "image/png": "[encoded data removed]",
      "text/plain": [
       "<Figure size 640x480 with 1 Axes>"
      ]
     },
     "metadata": {},
     "output_type": "display_data"
    }
   ],
   "source": [
    "plt.plot(reset['Month'],reset['Total Sales'],marker=\"8\",color='orange',linestyle=\"-.\",label=\"sales\", markerfacecolor='red',markeredgecolor='white')\n",
    "plt.xticks(rotation=45)\n",
    "plt.xlabel(\"Month\")\n",
    "plt.ylabel(\"Monthly Sales\")\n",
    "plt.title(\"Line plot of monthly sales\")\n",
    "plt.grid()\n",
    "plt.legend()\n",
    "plt.show()"
   ]
  },
  {
   "cell_type": "code",
   "execution_count": 22,
   "id": "e0f7ba42-c841-48ee-b23a-7c8a8c0d531d",
   "metadata": {},
   "outputs": [],
   "source": [
    "top_5_products = top_5_product.reset_index()\n",
    "product_name = top_5_products['Product Name']\n",
    "units_sold = top_5_products['Units Sold']"
   ]
  },
  {
   "cell_type": "code",
   "execution_count": 23,
   "id": "dee5ed89-5a4b-4abb-b8c4-9d3433d15713",
   "metadata": {},
   "outputs": [
    {
     "data": {
      "image/png": "[encoded data removed]",
      "text/plain": [
       "<Figure size 640x480 with 1 Axes>"
      ]
     },
     "metadata": {},
     "output_type": "display_data"
    }
   ],
   "source": [
    "plt.bar(product_name,units_sold, color ='#2ddb21',width=0.5,edgecolor='green')\n",
    "plt.xticks(rotation=20)\n",
    "plt.xlabel(\"Products\")\n",
    "plt.ylabel(\"Units Sold\")\n",
    "plt.title(\"Top 5 products by units sold\")\n",
    "plt.grid(axis='y',linestyle=\"--\")\n",
    "plt.show()"
   ]
  },
  {
   "cell_type": "code",
   "execution_count": 24,
   "id": "e9ed42f2-f53b-42cd-9c30-e9962a3fd016",
   "metadata": {},
   "outputs": [
    {
     "data": {
      "image/png": "[encoded data removed]",
      "text/plain": [
       "<Figure size 640x480 with 1 Axes>"
      ]
     },
     "metadata": {},
     "output_type": "display_data"
    }
   ],
   "source": [
    "category_revenue = group_category.reset_index()\n",
    "category_revenue['Category']\n",
    "revenue = category_revenue['Total Sales']\n",
    "total = data['Total Sales'].sum()\n",
    "percentage = (revenue/total)*100\n",
    "\n",
    "\n",
    "plt.pie(percentage,labels=category_revenue['Category'],colors=['yellow','#71f05b'],autopct=\"%1.1f%%\",startangle=90)\n",
    "plt.title(\"Category-wise Revenue Share\")\n",
    "plt.show()"
   ]
  },
  {
   "cell_type": "code",
   "execution_count": 25,
   "id": "7850c2f4-053a-42f5-9d65-e5768f0ea6f2",
   "metadata": {},
   "outputs": [
    {
     "data": {
      "image/png": "[encoded data removed]",
      "text/plain": [
       "<Figure size 640x480 with 1 Axes>"
      ]
     },
     "metadata": {},
     "output_type": "display_data"
    }
   ],
   "source": [
    "city_data = city_sales.reset_index()\n",
    "\n",
    "plt.barh(city_data['City'],city_data['Total Sales'],color = 'skyblue')\n",
    "plt.title(\"City-wise total sales\")\n",
    "plt.ylabel(\"City\")\n",
    "plt.xlabel(\"Sales\")\n",
    "plt.grid(axis=\"x\")\n",
    "plt.show()"
   ]
  }
 ],
 "metadata": {
  "kernelspec": {
   "display_name": "Python 3 (ipykernel)",
   "language": "python",
   "name": "python3"
  },
  "language_info": {
   "codemirror_mode": {
    "name": "ipython",
    "version": 3
   },
   "file_extension": ".py",
   "mimetype": "text/x-python",
   "name": "python",
   "nbconvert_exporter": "python",
   "pygments_lexer": "ipython3",
   "version": "3.13.5"
  }
 },
 "nbformat": 4,
 "nbformat_minor": 5
}
